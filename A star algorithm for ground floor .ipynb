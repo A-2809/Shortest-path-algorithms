{
 "cells": [
  {
   "cell_type": "markdown",
   "id": "b813a168",
   "metadata": {},
   "source": [
    "# A* algorithm to find the shortest path for ground floor"
   ]
  },
  {
   "cell_type": "markdown",
   "id": "7ea9a060",
   "metadata": {},
   "source": [
    "-  Contributed by: Hardik Soni"
   ]
  },
  {
   "cell_type": "code",
   "execution_count": 13,
   "id": "42187425",
   "metadata": {},
   "outputs": [],
   "source": [
    "#initialising the time to know the run time \n",
    "import time\n",
    "start = time.time()"
   ]
  },
  {
   "cell_type": "code",
   "execution_count": 14,
   "id": "7941959b",
   "metadata": {},
   "outputs": [],
   "source": [
    "# This class represent a graph\n",
    "class Graph:\n",
    "    # Initialize the class\n",
    "    def __init__(self, graph_dict=None, directed=True):\n",
    "        self.graph_dict = graph_dict or {}\n",
    "        self.directed = directed\n",
    "        if not directed:\n",
    "            self.make_undirected()\n",
    "    # Create an undirected graph by adding symmetric edges\n",
    "    def make_undirected(self):\n",
    "        for a in list(self.graph_dict.keys()):\n",
    "            for (b, dist) in self.graph_dict[a].items():\n",
    "                self.graph_dict.setdefault(b, {})[a] = dist\n",
    "    def connect(self, A, B, distance=1):\n",
    "        self.graph_dict.setdefault(A, {})[B] = distance\n",
    "        if not self.directed:\n",
    "            self.graph_dict.setdefault(B, {})[A] = distance\n",
    "    # Get neighbors or a neighbor\n",
    "    def get(self, a, b=None):\n",
    "        links = self.graph_dict.setdefault(a, {})\n",
    "        if b is None:\n",
    "            return links\n",
    "        else:\n",
    "            return links.get(b)\n",
    "    # Return a list of nodes in the graph\n",
    "    def nodes(self):\n",
    "        s1 = set([k for k in self.graph_dict.keys()])\n",
    "        s2 = set([k2 for v in self.graph_dict.values() for k2, v2 in v.items()])\n",
    "        nodes = s1.union(s2)\n",
    "        return list(nodes)\n"
   ]
  },
  {
   "cell_type": "code",
   "execution_count": 15,
   "id": "6b1e0dac",
   "metadata": {},
   "outputs": [],
   "source": [
    "# This class represent a node\n",
    "class Node:\n",
    "    # Initialize the class\n",
    "    def __init__(self, name:str, parent:str):\n",
    "        self.name = name\n",
    "        self.parent = parent\n",
    "        self.g = 0 # Distance to start node\n",
    "        self.h = 0 # Distance to goal node\n",
    "        self.f = 0 # Total cost\n",
    "    # Compare nodes\n",
    "    def __eq__(self, other):\n",
    "        return self.name == other.name\n",
    "    # Sort nodes\n",
    "    def __lt__(self, other):\n",
    "         return self.f < other.f\n",
    "    # Print node\n",
    "    def __repr__(self):\n",
    "        return ('({0},{1})'.format(self.name, self.f))"
   ]
  },
  {
   "cell_type": "code",
   "execution_count": 16,
   "id": "e6f84891",
   "metadata": {},
   "outputs": [],
   "source": [
    "# A* search\n",
    "def astar_search(graph, heuristics, start, end):\n",
    "    \n",
    "    # Create lists for open nodes and closed nodes\n",
    "    open = []\n",
    "    closed = []\n",
    "    # Create a start node and an goal node\n",
    "    start_node = Node(start, None)\n",
    "    goal_node = Node(end, None)\n",
    "    # Add the start node\n",
    "    open.append(start_node)\n",
    "    \n",
    "    # Loop until the open list is empty\n",
    "    while len(open) > 0:\n",
    "        # Sort the open list to get the node with the lowest cost first\n",
    "        open.sort()\n",
    "        # Get the node with the lowest cost\n",
    "        current_node = open.pop(0)\n",
    "        # Add the current node to the closed list\n",
    "        closed.append(current_node)\n",
    "        \n",
    "        # Check if we have reached the goal, return the path\n",
    "        if current_node == goal_node:\n",
    "            path = []\n",
    "            while current_node != start_node:\n",
    "                path.append(current_node.name) #+ str(current_node.g)\n",
    "                current_node = current_node.parent\n",
    "            path.append(start_node.name)    #+ str(start_node.g)\n",
    "            # Return reversed path\n",
    "            return path[::-1]\n",
    "        # Get neighbours\n",
    "        neighbors = graph.get(current_node.name)\n",
    "        # Loop neighbors\n",
    "        for key, value in neighbors.items():\n",
    "            # Create a neighbor node\n",
    "            neighbor = Node(key, current_node)\n",
    "            # Check if the neighbor is in the closed list\n",
    "            if(neighbor in closed):\n",
    "                continue\n",
    "            # Calculate full path cost\n",
    "            neighbor.g = current_node.g + graph.get(current_node.name, neighbor.name)\n",
    "            neighbor.h = heuristics.get(neighbor.name)\n",
    "            neighbor.f = neighbor.g + neighbor.h\n",
    "            # Check if neighbor is in open list and if it has a lower f value\n",
    "            if(add_to_open(open, neighbor) == True):\n",
    "                # Everything is green, add neighbor to open list\n",
    "                open.append(neighbor)\n",
    "                \n",
    "    print(neighbor.g)\n",
    "    # Return None, no path is found\n",
    "    return None\n"
   ]
  },
  {
   "cell_type": "code",
   "execution_count": 17,
   "id": "23c26fec",
   "metadata": {},
   "outputs": [],
   "source": [
    "# Check if a neighbor should be added to open list\n",
    "def add_to_open(open, neighbor):\n",
    "    for node in open:\n",
    "        if (neighbor == node and neighbor.f > node.f):\n",
    "            return False\n",
    "    return True"
   ]
  },
  {
   "cell_type": "code",
   "execution_count": 18,
   "id": "43208da0",
   "metadata": {},
   "outputs": [
    {
     "name": "stdout",
     "output_type": "stream",
     "text": [
      "Fire is at: \n",
      "L1\n"
     ]
    }
   ],
   "source": [
    "#intialising the nodes and random fire\n",
    "nodes = [\"Stairs1\", \"Stairs2\", \"L1\", \"L2\", \"L3\", \"L4\", \"L5\", \"Middle1\", \"Middle2\", \"Middle3\", \"Washroom1\", \"Washroom2\", \"EXIT2\"]\n",
    "\n",
    "import random\n",
    "random_item_from_list = random.choice(nodes)\n",
    "print(\"Fire is at: \")\n",
    "print(random_item_from_list)"
   ]
  },
  {
   "cell_type": "code",
   "execution_count": 19,
   "id": "fa325072",
   "metadata": {},
   "outputs": [
    {
     "name": "stdout",
     "output_type": "stream",
     "text": [
      "   Node_Places  Person\n",
      "0      Stairs1       5\n",
      "1      Stairs2       0\n",
      "2           L1       0\n",
      "3           L2       0\n",
      "4           L3       0\n",
      "5           L4       0\n",
      "6           L5       0\n",
      "7        EXIT1       0\n",
      "8      Middle1       0\n",
      "9      Middle2       0\n",
      "10     Middle3       0\n",
      "11       EXIT2       0\n",
      "12   Washroom1       0\n",
      "13   Washroom2       2\n"
     ]
    }
   ],
   "source": [
    "#Datasets File\n",
    "import pandas as pd\n",
    "df = pd.read_csv (r\"AI_datasets - Sheet1.csv\")\n",
    "print (df)\n",
    "present = df.loc[df.Person != 0, 'Node_Places']"
   ]
  },
  {
   "cell_type": "code",
   "execution_count": 20,
   "id": "ce634f1f",
   "metadata": {},
   "outputs": [
    {
     "name": "stdout",
     "output_type": "stream",
     "text": [
      "0       Stairs1\n",
      "13    Washroom2\n",
      "Name: Node_Places, dtype: object\n"
     ]
    }
   ],
   "source": [
    "present = df.loc[df.Person != 0, 'Node_Places']\n",
    "print(present)\n",
    "#no. of nodes having Persons\n",
    "n = len(present)"
   ]
  },
  {
   "cell_type": "code",
   "execution_count": 21,
   "id": "a4d26a5e",
   "metadata": {},
   "outputs": [
    {
     "name": "stdout",
     "output_type": "stream",
     "text": [
      "The best path obtained is given as : \n",
      " ['Stairs1', 'Middle1', 'Middle3', 'EXIT2']\n",
      "\n",
      "The best path obtained is given as : \n",
      " ['Washroom2', 'Middle2', 'Middle3', 'EXIT2']\n",
      "\n",
      "Runtime of the program is 0.2687811851501465 ms.\n"
     ]
    }
   ],
   "source": [
    "def main():\n",
    "    # Create a graph\n",
    "    graph = Graph()\n",
    "    # Create graph connections (Actual distance)\n",
    "    graph.connect('Washroom1', 'L4', 2)\n",
    "    graph.connect('Washroom1', 'Middle1', 3)\n",
    "    graph.connect('Stairs1', 'Middle1', 3)\n",
    "    graph.connect('L3', 'Middle1', 2)\n",
    "    graph.connect('L3', 'Middle2', 2)\n",
    "    graph.connect('L2', 'Middle2', 2)\n",
    "    graph.connect('L2', 'Middle1', 2)\n",
    "    graph.connect('Stairs2', 'Middle2', 3)\n",
    "    graph.connect('Washroom2', 'Middle2', 3)\n",
    "    graph.connect('Washroom2', 'L1', 2)\n",
    "    graph.connect('Middle1', 'L4', 3)\n",
    "    graph.connect('Middle1', 'Middle2', 1)\n",
    "    graph.connect('Middle1', 'Middle3', 1)\n",
    "    graph.connect('Middle2', 'Middle3', 1)\n",
    "    graph.connect('Middle2', 'L1', 3)\n",
    "    graph.connect('Middle3', 'L1', 2)\n",
    "    graph.connect('L4', 'Middle3', 2)\n",
    "    graph.connect('Middle3', 'EXIT2', 2)\n",
    "    graph.connect('L1', 'EXIT2', 1)\n",
    "    graph.connect('L5', 'EXIT2', 2)\n",
    "    graph.connect('L5', 'EXIT1', 2)\n",
    "    graph.connect('L4', 'EXIT1', 1)\n",
    "    graph.connect('Middle3', 'EXIT1', 2)\n",
    "    \n",
    "\n",
    "    # Make graph undirected, create symmetric connections\n",
    "    graph.make_undirected()\n",
    "    # Create heuristics (straight-line distance, air-travel distance)\n",
    "    heuristics = {}\n",
    "    heuristics['Washroom1'] = 100\n",
    "    heuristics['Stairs1'] = 98\n",
    "    heuristics['L3'] = 95\n",
    "    heuristics['L2'] = 93\n",
    "    heuristics['Stairs2'] = 96\n",
    "    heuristics['Washroom2'] = 89\n",
    "    heuristics['Middle1'] = 85\n",
    "    heuristics['Middle2'] = 78\n",
    "    heuristics['L4'] = 90\n",
    "    heuristics['Middle3'] = 60\n",
    "    heuristics['L1'] = 45\n",
    "    heuristics['EXIT2'] = 0\n",
    "    heuristics['L5'] = 50\n",
    "    heuristics['EXIT1'] = 0\n",
    "    \n",
    "    #removing the fire node\n",
    "    if (heuristics[random_item_from_list]!=None):\n",
    "        heuristics[random_item_from_list]=10000\n",
    "    \n",
    "    #Setting variable starting node\n",
    "\n",
    "    # Run the search algorithm\n",
    "    for i in present: \n",
    "        path = astar_search(graph, heuristics, i, 'EXIT2')\n",
    "        if(random_item_from_list == 'EXIT2'):\n",
    "            print('Path for ' +i)\n",
    "            print('There is no way to escape, Rest in Peace! :)')\n",
    "        \n",
    "        else:    \n",
    "                print('The best path obtained is given as :','\\n',path)\n",
    "        print()\n",
    "    \n",
    "    \n",
    "# Tell python to run main method\n",
    "if __name__ == \"__main__\": main()\n",
    "    \n",
    "end = time.time()    \n",
    "print(f\"Runtime of the program is {end - start} ms.\")"
   ]
  },
  {
   "cell_type": "code",
   "execution_count": null,
   "id": "b005760d",
   "metadata": {},
   "outputs": [],
   "source": []
  },
  {
   "cell_type": "code",
   "execution_count": null,
   "id": "43985c4e",
   "metadata": {},
   "outputs": [],
   "source": []
  },
  {
   "cell_type": "code",
   "execution_count": null,
   "id": "ab41d23a",
   "metadata": {},
   "outputs": [],
   "source": []
  }
 ],
 "metadata": {
  "kernelspec": {
   "display_name": "Python 3",
   "language": "python",
   "name": "python3"
  },
  "language_info": {
   "codemirror_mode": {
    "name": "ipython",
    "version": 3
   },
   "file_extension": ".py",
   "mimetype": "text/x-python",
   "name": "python",
   "nbconvert_exporter": "python",
   "pygments_lexer": "ipython3",
   "version": "3.8.8"
  }
 },
 "nbformat": 4,
 "nbformat_minor": 5
}
