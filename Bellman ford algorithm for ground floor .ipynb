{
 "cells": [
  {
   "cell_type": "markdown",
   "id": "0b892a8d",
   "metadata": {},
   "source": [
    "# Using Bellman Ford algorithm to find the safest and shortest path to get out of fire in LHC"
   ]
  },
  {
   "cell_type": "markdown",
   "id": "98ded26b",
   "metadata": {},
   "source": [
    "Developed by: OJASWEE"
   ]
  },
  {
   "cell_type": "code",
   "execution_count": 9,
   "id": "a4d81ccb",
   "metadata": {},
   "outputs": [],
   "source": [
    "#intinialinsing the time to know the run time \n",
    "import time\n",
    "start = time.time()"
   ]
  },
  {
   "cell_type": "code",
   "execution_count": 10,
   "id": "556eea70",
   "metadata": {},
   "outputs": [],
   "source": [
    "#defining the Bellman Ford algorithm\n",
    "def bellmanFord(graph, s):\n",
    "    d = dict.fromkeys(graph.V, math.inf) # far nodes will have the infinite value\n",
    "                                         \n",
    "    pi = dict.fromkeys(graph.V, None) # map of parent vertex\n",
    "    \n",
    "    # initialize\n",
    "    d[s] = 0\n",
    "    \n",
    "    def relax(u, v, w):\n",
    "        if d[v] > d[u] + w:\n",
    "            d[v] = d[u] + w\n",
    "            pi[v] = u\n",
    "    \n",
    "    # The length of the longest simple path(path w/o cycle) would be |V| - 1.\n",
    "    # For example, you need 2 edges to connect 3 vertices.\n",
    "    # Otherwise, there exists a negative cycle.\n",
    "    for i in graph.V[:-1]:\n",
    "        for u, v, w in graph.new_edges:\n",
    "            relax(u, v, w)\n",
    "            \n",
    "    for u, v, w in graph.new_edges:\n",
    "        # even after relaxing all the edges for |V| - 1 times,\n",
    "        # we still have the posibillity to improve the existing path\n",
    "        # this means there are negative cycles\n",
    "        if d[v] > d[u] + w:\n",
    "            return f'there exists a negetive cycle!'\n",
    "                \n",
    "    return d, pi"
   ]
  },
  {
   "cell_type": "code",
   "execution_count": 11,
   "id": "3e08d76d",
   "metadata": {},
   "outputs": [],
   "source": [
    "#defining the shortest path\n",
    "def shortest_path(s, t):\n",
    "    try:\n",
    "        d, pi = bellmanFord(g, s)\n",
    "    except ValueError:\n",
    "        return 'you can\\'t find shortest path if the graph has negative cycle!'\n",
    "    \n",
    "    path = [t]\n",
    "    current = t\n",
    "    \n",
    "    # if parent pointer is None,\n",
    "    # then it's the source vertex\n",
    "    while pi[current]:\n",
    "        path.insert(0, pi[current])\n",
    "        # set current to parent\n",
    "        current = pi[current]\n",
    "    \n",
    "    if s not in path:\n",
    "        return f'unable to find shortest path staring from \"{s}\" to \"{t}\"'\n",
    "    \n",
    "    return f'{\" -> \".join(path)}'\n"
   ]
  },
  {
   "cell_type": "code",
   "execution_count": 12,
   "id": "3c4b5751",
   "metadata": {},
   "outputs": [],
   "source": [
    "import math\n",
    "import networkx as nx\n",
    "\n",
    "# initialising the Graph\n",
    "class Graph:\n",
    "    def __init__(self, vertices):\n",
    "        self.V = vertices\n",
    "        self.new_edges = []\n",
    "    \n",
    "    def add_edge(self, edge):\n",
    "        self.new_edges.append(edge)\n",
    "        \n",
    "    def __str__(self):\n",
    "        result = ''\n",
    "        for edge in self.new_edges:\n",
    "            result += f'{v}: {str(edge)}, \\n'\n",
    "        return result\n"
   ]
  },
  {
   "cell_type": "code",
   "execution_count": 13,
   "id": "f032ee3a",
   "metadata": {},
   "outputs": [],
   "source": [
    "#Defining 1st floor map of LHC\n",
    "x =[\"Stairs1\", \"Stairs2\", \"L1\", \"L2\", \"L3\", \"L4\", \"L5\", \"Middle1\", \"Exit1\", \"Middle2\", \"Middle3\", \"Washroom1\", \"Washroom2\", \"Exit2\"]\n",
    " \n",
    "g = Graph(x)\n",
    "\n",
    "nc_edges = [('Stairs1','Stairs2',-2)]\n",
    "\n",
    "edges = [\\\n",
    "        ('Washroom1','Middle1',3),('Washroom1','L4',2), ('L4','Middle1',3), ('Stairs1','Middle1',3), ('L3','Middle1',2),('L3','Middle2',2),\\\n",
    "        ('L2','Middle1',2), ('L3','Middle2',2), ('Stairs2','Middle2',3), ('Washroom2','Middle2',3), ('Washroom2','L1',2), ('Middle2','L1',3), ('Middle2','Middle1',1),\\\n",
    "        ('Middle2','Middle3',1), ('Middle1','Middle3',1),('Middle3','Exit2',2), ('L1','Exit2',2),('Exit2','L5',2),('Middle3','Exit1',2),('L4','Exit1',1),('L5','Exit1',2)]"
   ]
  },
  {
   "cell_type": "code",
   "execution_count": 14,
   "id": "c718ace0",
   "metadata": {},
   "outputs": [
    {
     "name": "stdout",
     "output_type": "stream",
     "text": [
      "   Node_Places  Person\n",
      "0      Stairs1       5\n",
      "1      Stairs2       0\n",
      "2           L1       0\n",
      "3           L2       0\n",
      "4           L3       0\n",
      "5           L4       0\n",
      "6           L5       0\n",
      "7        EXIT1       0\n",
      "8      Middle1       0\n",
      "9      Middle2       0\n",
      "10     Middle3       0\n",
      "11       EXIT2       0\n",
      "12   Washroom1       0\n",
      "13   Washroom2       2\n"
     ]
    }
   ],
   "source": [
    "#Datasets File\n",
    "import pandas as pd\n",
    "df = pd.read_csv (r\"C:\\Users\\ojoja\\Downloads\\AI_datasets - Sheet1.csv\")\n",
    "print (df)"
   ]
  },
  {
   "cell_type": "code",
   "execution_count": 15,
   "id": "78bf7141",
   "metadata": {},
   "outputs": [
    {
     "name": "stdout",
     "output_type": "stream",
     "text": [
      "0       Stairs1\n",
      "13    Washroom2\n",
      "Name: Node_Places, dtype: object\n"
     ]
    }
   ],
   "source": [
    "present = df.loc[df.Person != 0, 'Node_Places']\n",
    "print(present)\n",
    "#no. of nodes having Persons\n",
    "n = len(present)"
   ]
  },
  {
   "cell_type": "code",
   "execution_count": 16,
   "id": "a0420af0",
   "metadata": {},
   "outputs": [
    {
     "name": "stdout",
     "output_type": "stream",
     "text": [
      "Fire is at: \n",
      "Stairs2\n",
      "\n",
      "Path from Stairs1\n",
      "Stairs1 -> Middle1 -> Middle3 -> Exit2\n",
      "\n",
      "Path from Washroom2\n",
      "Washroom2 -> L1 -> Exit2\n",
      "\n",
      "Runtime of the program is 46.38406562805176 ms.\n"
     ]
    }
   ],
   "source": [
    "#intialsing random fire at 1st floor\n",
    "import random\n",
    "random_item_from_list = random.choice(x)\n",
    "removed_list = [i for i in edges if i[0] ==x or i[1]==x]\n",
    "new_edges = [fr for fr in edges if fr not in removed_list]\n",
    "\n",
    "print(\"Fire is at: \")\n",
    "print(random_item_from_list)\n",
    "print()\n",
    "#used for both finding shortest path\n",
    "current_edge_group = new_edges\n",
    "\n",
    "for edge in current_edge_group:\n",
    "    g.add_edge(edge)\n",
    "\n",
    "for i in present:\n",
    "    print(\"Path from \" + i)\n",
    "    print(shortest_path(i, 'Exit2'))\n",
    "    print()\n",
    "end = time.time()    \n",
    "print(f\"Runtime of the program is {end - start} ms.\")"
   ]
  },
  {
   "cell_type": "code",
   "execution_count": null,
   "id": "4c9878b4",
   "metadata": {},
   "outputs": [],
   "source": []
  }
 ],
 "metadata": {
  "kernelspec": {
   "display_name": "Python 3",
   "language": "python",
   "name": "python3"
  },
  "language_info": {
   "codemirror_mode": {
    "name": "ipython",
    "version": 3
   },
   "file_extension": ".py",
   "mimetype": "text/x-python",
   "name": "python",
   "nbconvert_exporter": "python",
   "pygments_lexer": "ipython3",
   "version": "3.8.8"
  }
 },
 "nbformat": 4,
 "nbformat_minor": 5
}
