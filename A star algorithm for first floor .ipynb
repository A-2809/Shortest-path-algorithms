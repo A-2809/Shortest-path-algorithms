{
 "cells": [
  {
   "cell_type": "markdown",
   "id": "b813a168",
   "metadata": {},
   "source": [
    "# A* algorithm to find the shortest path for first floor"
   ]
  },
  {
   "cell_type": "markdown",
   "id": "8af892c9",
   "metadata": {},
   "source": [
    "-  Contributed by: Hardik Soni"
   ]
  },
  {
   "cell_type": "code",
   "execution_count": 98,
   "id": "42187425",
   "metadata": {},
   "outputs": [],
   "source": [
    "#initialising the time to know the run time \n",
    "import time\n",
    "start = time.time()"
   ]
  },
  {
   "cell_type": "code",
   "execution_count": 99,
   "id": "7941959b",
   "metadata": {},
   "outputs": [],
   "source": [
    "# This class represent a graph\n",
    "class Graph:\n",
    "    # Initialize the class\n",
    "    def __init__(self, graph_dict=None, directed=True):\n",
    "        self.graph_dict = graph_dict or {}\n",
    "        self.directed = directed\n",
    "        if not directed:\n",
    "            self.make_undirected()\n",
    "    # Create an undirected graph by adding symmetric edges\n",
    "    def make_undirected(self):\n",
    "        for a in list(self.graph_dict.keys()):\n",
    "            for (b, dist) in self.graph_dict[a].items():\n",
    "                self.graph_dict.setdefault(b, {})[a] = dist\n",
    "    def connect(self, A, B, distance=1):\n",
    "        self.graph_dict.setdefault(A, {})[B] = distance\n",
    "        if not self.directed:\n",
    "            self.graph_dict.setdefault(B, {})[A] = distance\n",
    "    # Get neighbors or a neighbor\n",
    "    def get(self, a, b=None):\n",
    "        links = self.graph_dict.setdefault(a, {})\n",
    "        if b is None:\n",
    "            return links\n",
    "        else:\n",
    "            return links.get(b)\n",
    "    # Return a list of nodes in the graph\n",
    "    def nodes(self):\n",
    "        s1 = set([k for k in self.graph_dict.keys()])\n",
    "        s2 = set([k2 for v in self.graph_dict.values() for k2, v2 in v.items()])\n",
    "        nodes = s1.union(s2)\n",
    "        return list(nodes)\n"
   ]
  },
  {
   "cell_type": "code",
   "execution_count": 100,
   "id": "6b1e0dac",
   "metadata": {},
   "outputs": [],
   "source": [
    "# This class represent a node\n",
    "class Node:\n",
    "    # Initialize the class\n",
    "    def __init__(self, name:str, parent:str):\n",
    "        self.name = name\n",
    "        self.parent = parent\n",
    "        self.g = 0 # Distance to start node\n",
    "        self.h = 0 # Distance to goal node\n",
    "        self.f = 0 # Total cost\n",
    "    # Compare nodes\n",
    "    def __eq__(self, other):\n",
    "        return self.name == other.name\n",
    "    # Sort nodes\n",
    "    def __lt__(self, other):\n",
    "         return self.f < other.f\n",
    "    # Print node\n",
    "    def __repr__(self):\n",
    "        return ('({0},{1})'.format(self.name, self.f))"
   ]
  },
  {
   "cell_type": "code",
   "execution_count": 101,
   "id": "e6f84891",
   "metadata": {},
   "outputs": [],
   "source": [
    "# A* search\n",
    "def astar_search(graph, heuristics, start, end):\n",
    "    \n",
    "    # Create lists for open nodes and closed nodes\n",
    "    open = []\n",
    "    closed = []\n",
    "    # Create a start node and an goal node\n",
    "    start_node = Node(start, None)\n",
    "    goal_node = Node(end, None)\n",
    "    # Add the start node\n",
    "    open.append(start_node)\n",
    "    \n",
    "    # Loop until the open list is empty\n",
    "    while len(open) > 0:\n",
    "        # Sort the open list to get the node with the lowest cost first\n",
    "        open.sort()\n",
    "        # Get the node with the lowest cost\n",
    "        current_node = open.pop(0)\n",
    "        # Add the current node to the closed list\n",
    "        closed.append(current_node)\n",
    "        \n",
    "        # Check if we have reached the goal, return the path\n",
    "        if current_node == goal_node:\n",
    "            path = []\n",
    "            while current_node != start_node:\n",
    "                path.append(current_node.name) #+ str(current_node.g)\n",
    "                current_node = current_node.parent\n",
    "            path.append(start_node.name)    #+ str(start_node.g)\n",
    "            # Return reversed path\n",
    "            return path[::-1]\n",
    "        # Get neighbours\n",
    "        neighbors = graph.get(current_node.name)\n",
    "        # Loop neighbors\n",
    "        for key, value in neighbors.items():\n",
    "            # Create a neighbor node\n",
    "            neighbor = Node(key, current_node)\n",
    "            # Check if the neighbor is in the closed list\n",
    "            if(neighbor in closed):\n",
    "                continue\n",
    "            # Calculate full path cost\n",
    "            neighbor.g = current_node.g + graph.get(current_node.name, neighbor.name)\n",
    "            neighbor.h = heuristics.get(neighbor.name)\n",
    "            neighbor.f = neighbor.g + neighbor.h\n",
    "            # Check if neighbor is in open list and if it has a lower f value\n",
    "            if(add_to_open(open, neighbor) == True):\n",
    "                # Everything is green, add neighbor to open list\n",
    "                open.append(neighbor)\n",
    "    \n",
    "    if(random_item_from_list != 'GroundF'):            \n",
    "        print(neighbor.g)\n",
    "    # Return None, no path is found\n",
    "    return None\n"
   ]
  },
  {
   "cell_type": "code",
   "execution_count": 102,
   "id": "23c26fec",
   "metadata": {},
   "outputs": [],
   "source": [
    "# Check if a neighbor should be added to open list\n",
    "def add_to_open(open, neighbor):\n",
    "    for node in open:\n",
    "        if (neighbor == node and neighbor.f > node.f):\n",
    "            return False\n",
    "    return True"
   ]
  },
  {
   "cell_type": "code",
   "execution_count": 103,
   "id": "43208da0",
   "metadata": {},
   "outputs": [
    {
     "name": "stdout",
     "output_type": "stream",
     "text": [
      "Fire is at: \n",
      "Washroom3\n"
     ]
    }
   ],
   "source": [
    "#intialising the nodes and random fire\n",
    "nodes = [\"Stairs1\", \"Stairs2\", \"L6\", \"L7\", \"L8\", \"L9\", \"L10\", \"L11\",\"Middle4\", \"Middle5\", \"GroundF\", \"Washroom3\", \"Washroom4\", \"Office\", \"Extra\"]\n",
    "import random\n",
    "random_item_from_list = random.choice(nodes)\n",
    "print(\"Fire is at: \")\n",
    "print(random_item_from_list)"
   ]
  },
  {
   "cell_type": "code",
   "execution_count": 104,
   "id": "fa325072",
   "metadata": {
    "scrolled": true
   },
   "outputs": [
    {
     "name": "stdout",
     "output_type": "stream",
     "text": [
      "   Node_Places  Person\n",
      "0    Washroom4       0\n",
      "1       Office       5\n",
      "2           L7       0\n",
      "3      Middle4       0\n",
      "4           L6       0\n",
      "5           L8       0\n",
      "6           L9       0\n",
      "7      Middle5       0\n",
      "8          L11       2\n",
      "9          L10       0\n",
      "10       Extra       0\n",
      "11   Washroom3       0\n",
      "12     Stairs1       0\n",
      "13     Stairs2       0\n"
     ]
    }
   ],
   "source": [
    "#Datasets File\n",
    "import pandas as pd\n",
    "df = pd.read_csv (r\"AI_1stFloor - Sheet1.csv\")\n",
    "print (df)\n",
    "present = df.loc[df.Person != 0, 'Node_Places']"
   ]
  },
  {
   "cell_type": "code",
   "execution_count": 105,
   "id": "c1c60418",
   "metadata": {},
   "outputs": [
    {
     "name": "stdout",
     "output_type": "stream",
     "text": [
      "1    Office\n",
      "8       L11\n",
      "Name: Node_Places, dtype: object\n"
     ]
    }
   ],
   "source": [
    "present = df.loc[df.Person != 0, 'Node_Places']\n",
    "print(present)\n",
    "#no. of nodes having Persons\n",
    "n = len(present)"
   ]
  },
  {
   "cell_type": "code",
   "execution_count": 106,
   "id": "a4d26a5e",
   "metadata": {},
   "outputs": [
    {
     "name": "stdout",
     "output_type": "stream",
     "text": [
      "The best path obtained is given as : \n",
      " ['Office', 'Stairs2', 'GroundF']\n",
      "\n",
      "The best path obtained is given as : \n",
      " ['L11', 'Middle5', 'Stairs1', 'GroundF']\n",
      "\n",
      "Runtime of the program is 0.3009006977081299 ms.\n"
     ]
    }
   ],
   "source": [
    "def main():\n",
    "    # Create a graph\n",
    "    graph = Graph()\n",
    "    # Create graph connections (Actual distance)\n",
    "    graph.connect('GroundF', 'Stairs2', 2)\n",
    "    graph.connect('GroundF', 'Stairs1', 2)\n",
    "    graph.connect('Washroom4', 'Stairs2', 1)\n",
    "    graph.connect('Office', 'Stairs2', 2)\n",
    "    graph.connect('L7', 'Stairs2', 2)\n",
    "    graph.connect('Stairs2', 'Middle4', 3)\n",
    "    graph.connect('Office', 'Middle4', 3)\n",
    "    graph.connect('L7', 'Middle4', 3)\n",
    "    graph.connect('L6', 'Middle4', 1)\n",
    "    graph.connect('Middle4', 'L8', 1)\n",
    "    graph.connect('Middle4', 'L9', 2)\n",
    "    graph.connect('L8', 'Middle5', 2)\n",
    "    graph.connect('L9', 'Middle5', 1)\n",
    "    graph.connect('L11', 'Middle5', 1)\n",
    "    graph.connect('Middle5', 'Extra', 3)\n",
    "    graph.connect('Middle5', 'L10', 1)\n",
    "    graph.connect('Middle5', 'Stairs1', 3)\n",
    "    graph.connect('Stairs1', 'L10', 2)\n",
    "    graph.connect('Extra', 'Stairs1', 2)\n",
    "    graph.connect('Washroom3', 'Stairs1', 1)\n",
    "    \n",
    "\n",
    "    # Make graph undirected, create symmetric connections\n",
    "    graph.make_undirected()\n",
    "    # Create heuristics (straight-line distance, air-travel distance)\n",
    "    heuristics = {}\n",
    "    heuristics['Office'] = 100\n",
    "    heuristics['L6'] = 97\n",
    "    heuristics['L11'] = 97\n",
    "    heuristics['Extra'] = 100\n",
    "    heuristics['Middle4'] = 88\n",
    "    heuristics['Middle5'] = 88\n",
    "    heuristics['L7'] = 80\n",
    "    heuristics['L8'] = 75\n",
    "    heuristics['L9'] = 75\n",
    "    heuristics['L10'] = 80\n",
    "    heuristics['Washroom4'] = 83\n",
    "    heuristics['Washroom3'] = 83\n",
    "    heuristics['Stairs2'] = 50\n",
    "    heuristics['Stairs1'] = 50\n",
    "    heuristics['GroundF'] = 0\n",
    "    \n",
    "    #removing the fire node\n",
    "    if (heuristics[random_item_from_list]!=None):\n",
    "        heuristics[random_item_from_list]=10000\n",
    "    \n",
    "    \n",
    "    #Settiif(random_item_from_list == 'GroundF'):ng variable starting node\n",
    "\n",
    "    # Run the search algorithm\n",
    "    for i in present:   \n",
    "            path = astar_search(graph, heuristics, i, 'GroundF')\n",
    "            if(random_item_from_list == 'GroundF'):\n",
    "                print(\"Path for \" + i)\n",
    "                print(\"There is no way to escape, you need to jump from the window :)\")\n",
    "\n",
    "        \n",
    "            else:    \n",
    "                print('The best path obtained is given as :','\\n',path)\n",
    "            print()\n",
    "    \n",
    "    \n",
    "# Tell python to run main method\n",
    "if __name__ == \"__main__\": main()\n",
    "    \n",
    "end = time.time()    \n",
    "print(f\"Runtime of the program is {end - start} ms.\")"
   ]
  },
  {
   "cell_type": "code",
   "execution_count": null,
   "id": "4c7837d8",
   "metadata": {},
   "outputs": [],
   "source": []
  }
 ],
 "metadata": {
  "kernelspec": {
   "display_name": "Python 3",
   "language": "python",
   "name": "python3"
  },
  "language_info": {
   "codemirror_mode": {
    "name": "ipython",
    "version": 3
   },
   "file_extension": ".py",
   "mimetype": "text/x-python",
   "name": "python",
   "nbconvert_exporter": "python",
   "pygments_lexer": "ipython3",
   "version": "3.8.8"
  }
 },
 "nbformat": 4,
 "nbformat_minor": 5
}
