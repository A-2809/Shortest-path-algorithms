{
 "cells": [
  {
   "cell_type": "markdown",
   "id": "0b892a8d",
   "metadata": {},
   "source": [
    "# Using Bellman Ford algorithm to find the safest and shortest path to get out of fire in LHC"
   ]
  },
  {
   "cell_type": "markdown",
   "id": "c49da6e8",
   "metadata": {},
   "source": [
    "Developed by: OJASWEE"
   ]
  },
  {
   "cell_type": "code",
   "execution_count": 1,
   "id": "a4d81ccb",
   "metadata": {},
   "outputs": [],
   "source": [
    "#intinialinsing the time to know the run time \n",
    "import time\n",
    "start = time.time()"
   ]
  },
  {
   "cell_type": "code",
   "execution_count": 2,
   "id": "556eea70",
   "metadata": {},
   "outputs": [],
   "source": [
    "#defining the Bellman Ford algorithm\n",
    "def bellmanFord(graph, s):\n",
    "    d = dict.fromkeys(graph.V, math.inf) # far nodes will have the infinite value\n",
    "                                         \n",
    "    pi = dict.fromkeys(graph.V, None) # map of parent vertex\n",
    "    \n",
    "    # initialize\n",
    "    d[s] = 0\n",
    "    \n",
    "    def relax(u, v, w):\n",
    "        if d[v] > d[u] + w:\n",
    "            d[v] = d[u] + w\n",
    "            pi[v] = u\n",
    "    \n",
    "    # The length of the longest simple path(path w/o cycle) would be |V| - 1.\n",
    "    # For example, you need 2 edges to connect 3 vertices.\n",
    "    # Otherwise, there exists a negative cycle.\n",
    "    for i in graph.V[:-1]:\n",
    "        for u, v, w in graph.new_edges:\n",
    "            relax(u, v, w)\n",
    "            \n",
    "    for u, v, w in graph.new_edges:\n",
    "        # even after relaxing all the edges for |V| - 1 times,\n",
    "        # we still have the posibillity to improve the existing path\n",
    "        # this means there are negative cycles\n",
    "        if d[v] > d[u] + w:\n",
    "            return f'there exists a negetive cycle!'\n",
    "                \n",
    "    return d, pi"
   ]
  },
  {
   "cell_type": "code",
   "execution_count": 3,
   "id": "3e08d76d",
   "metadata": {},
   "outputs": [],
   "source": [
    "#defining the shortest path\n",
    "def shortest_path(s, t):\n",
    "    try:\n",
    "        d, pi = bellmanFord(g, s)\n",
    "    except ValueError:\n",
    "        return 'you can\\'t find shortest path if the graph has negative cycle!'\n",
    "    \n",
    "    path = [t]\n",
    "    current = t\n",
    "    \n",
    "    # if parent pointer is None,\n",
    "    # then it's the source vertex\n",
    "    while pi[current]:\n",
    "        path.insert(0, pi[current])\n",
    "        # set current to parent\n",
    "        current = pi[current]\n",
    "    \n",
    "    if s not in path:\n",
    "        return f'unable to find shortest path staring from \"{s}\" to \"{t}\"'\n",
    "    \n",
    "    return f'{\" -> \".join(path)}'\n"
   ]
  },
  {
   "cell_type": "code",
   "execution_count": 4,
   "id": "3c4b5751",
   "metadata": {},
   "outputs": [],
   "source": [
    "import math\n",
    "import networkx as nx\n",
    "\n",
    "# initialising the Graph\n",
    "class Graph:\n",
    "    def __init__(self, vertices):\n",
    "        self.V = vertices\n",
    "        self.new_edges = []\n",
    "    \n",
    "    def add_edge(self, edge):\n",
    "        self.new_edges.append(edge)\n",
    "        \n",
    "    def __str__(self):\n",
    "        result = ''\n",
    "        for edge in self.new_edges:\n",
    "            result += f'{v}: {str(edge)}, \\n'\n",
    "        return result\n"
   ]
  },
  {
   "cell_type": "code",
   "execution_count": 5,
   "id": "f032ee3a",
   "metadata": {},
   "outputs": [],
   "source": [
    "#Defining 1st floor map of LHC\n",
    "x = [\"Stairs1\", \"Stairs2\", \"L6\", \"L7\", \"L8\", \"L9\", \"L10\", \"L11\",\"Middle4\", \"Middle5\", \"GroundF\", \"Washroom3\", \"Washroom4\", \"Office\", \"Extra\"]\n",
    "g = Graph(x)\n",
    "\n",
    "nc_edges = [('Stairs1','Stairs2',-2)]\n",
    "\n",
    "edges = [\\\n",
    "        ('Stairs2','GroundF',2),('Stairs1','GroundF',2), ('Washroom4','Stairs2',1), ('Office','Stairs2',2), ('L7','Stairs2',2),('Middle4','L7',1),\\\n",
    "        ('Middle4','Stairs2',3), ('L6','Middle4',1), ('L8','Middle4',1), ('Middle4','L9',2), ('L8','Middle5',2), ('L9','Middle5',1), ('L11','Middle5',1),\\\n",
    "        ('Middle5','L10',1), ('Extra','Middle5',2),('Extra','Stairs1',2), ('Middle5','Stairs1',3),('L10','Stairs1',2),('Washroom3','Stairs1',1)]"
   ]
  },
  {
   "cell_type": "code",
   "execution_count": 6,
   "id": "c718ace0",
   "metadata": {},
   "outputs": [
    {
     "name": "stdout",
     "output_type": "stream",
     "text": [
      "   Node_Places  Person\n",
      "0    Washroom4       0\n",
      "1       Office       5\n",
      "2           L7       0\n",
      "3      Middle4       0\n",
      "4           L6       0\n",
      "5           L8       0\n",
      "6           L9       0\n",
      "7      Middle5       0\n",
      "8          L11       2\n",
      "9          L10       0\n",
      "10       Extra       0\n",
      "11   Washroom3       0\n",
      "12     Stairs1       0\n",
      "13     Stairs2       0\n"
     ]
    }
   ],
   "source": [
    "#Datasets File\n",
    "import pandas as pd\n",
    "df = pd.read_csv (r\"C:\\Users\\ojoja\\Downloads\\AI_1stFloor - Sheet1.csv\")\n",
    "print (df)"
   ]
  },
  {
   "cell_type": "code",
   "execution_count": 7,
   "id": "78bf7141",
   "metadata": {},
   "outputs": [
    {
     "name": "stdout",
     "output_type": "stream",
     "text": [
      "1    Office\n",
      "8       L11\n",
      "Name: Node_Places, dtype: object\n"
     ]
    }
   ],
   "source": [
    "present = df.loc[df.Person != 0, 'Node_Places']\n",
    "print(present)\n",
    "#no. of nodes having Persons\n",
    "n = len(present)"
   ]
  },
  {
   "cell_type": "code",
   "execution_count": 8,
   "id": "59ab6312",
   "metadata": {},
   "outputs": [
    {
     "name": "stdout",
     "output_type": "stream",
     "text": [
      "Fire is at: \n",
      "L10\n"
     ]
    }
   ],
   "source": [
    "#intialsing random fire at 1st floor\n",
    "import random\n",
    "random_item_from_list = random.choice(x)\n",
    "removed_list = [i for i in edges if i[0] ==x or i[1]==x]\n",
    "new_edges = [fr for fr in edges if fr not in removed_list]\n",
    "\n",
    "print(\"Fire is at: \")\n",
    "print(random_item_from_list)"
   ]
  },
  {
   "cell_type": "code",
   "execution_count": 9,
   "id": "a0420af0",
   "metadata": {},
   "outputs": [],
   "source": [
    "#used for both finding shortest path\n",
    "current_edge_group = new_edges\n",
    "\n",
    "for edge in current_edge_group:\n",
    "    g.add_edge(edge)\n"
   ]
  },
  {
   "cell_type": "code",
   "execution_count": 10,
   "id": "1489ce5a",
   "metadata": {},
   "outputs": [
    {
     "name": "stdout",
     "output_type": "stream",
     "text": [
      "Path from Office\n",
      "Office -> Stairs2 -> GroundF\n",
      "Path from L11\n",
      "L11 -> Middle5 -> Stairs1 -> GroundF\n",
      "Runtime of the program is 0.8315997123718262 ms.\n"
     ]
    }
   ],
   "source": [
    "import multiprocessing\n",
    "\n",
    "class Process(multiprocessing.Process):\n",
    "    for i in present:\n",
    "        print(\"Path from \" + i)\n",
    "        print(shortest_path(i, 'GroundF'))\n",
    "        \n",
    "end = time.time()    \n",
    "print(f\"Runtime of the program is {end - start} ms.\")"
   ]
  }
 ],
 "metadata": {
  "kernelspec": {
   "display_name": "Python 3",
   "language": "python",
   "name": "python3"
  },
  "language_info": {
   "codemirror_mode": {
    "name": "ipython",
    "version": 3
   },
   "file_extension": ".py",
   "mimetype": "text/x-python",
   "name": "python",
   "nbconvert_exporter": "python",
   "pygments_lexer": "ipython3",
   "version": "3.8.8"
  }
 },
 "nbformat": 4,
 "nbformat_minor": 5
}
