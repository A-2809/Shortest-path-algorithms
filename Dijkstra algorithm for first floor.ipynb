{
 "cells": [
  {
   "cell_type": "markdown",
   "id": "c41e5de4",
   "metadata": {},
   "source": [
    "# Finding the shortest path using Dijkstra algorithm for 1st floor"
   ]
  },
  {
   "cell_type": "markdown",
   "id": "fcc467b8",
   "metadata": {},
   "source": [
    "- Developed by: Archana Yadav"
   ]
  },
  {
   "cell_type": "code",
   "execution_count": 17,
   "id": "bc4abd2f",
   "metadata": {},
   "outputs": [],
   "source": [
    "#intinialinsing the time to know the run time \n",
    "import time\n",
    "start = time.time()\n",
    "\n",
    "#defining the dijkstra algorithm\n",
    "def dijkstra_algorithm(graph, start_node):\n",
    "    unvisited_nodes = list(graph.get_nodes())\n",
    " \n",
    "    # We'll use this dict to save the cost of visiting each node and update it as we move along the graph   \n",
    "    shortest_path = {}\n",
    " \n",
    "    # We'll use this dict to save the shortest known path to a node found so far\n",
    "    previous_nodes = {}\n",
    "    \n",
    "    # initialising maximum value of nodes as infinity of unvisited nodes  \n",
    "    max_value = sys.maxsize\n",
    "    for node in unvisited_nodes:\n",
    "        shortest_path[node] = max_value\n",
    "        \n",
    "    # initialising the starting node's value with 0   \n",
    "    shortest_path[start_node] = 0\n",
    "    \n",
    "    # The algorithm executes until we visit all nodes\n",
    "    while unvisited_nodes:\n",
    "        # The code block below finds the node with the lowest score\n",
    "        current_min_node = None\n",
    "        for node in unvisited_nodes: # Iterate over the nodes\n",
    "            if current_min_node == None:\n",
    "                current_min_node = node\n",
    "            elif shortest_path[node] < shortest_path[current_min_node]:\n",
    "                current_min_node = node\n",
    "                \n",
    "        # This retrieves the current node's neighbors and updates their distances\n",
    "        neighbors = graph.get_outgoing_edges(current_min_node)\n",
    "        for neighbor in neighbors:\n",
    "            tentative_value = shortest_path[current_min_node] + graph.value(current_min_node, neighbor)\n",
    "            if tentative_value < shortest_path[neighbor]:\n",
    "                shortest_path[neighbor] = tentative_value\n",
    "                # We also update the best path to the current node\n",
    "                previous_nodes[neighbor] = current_min_node\n",
    " \n",
    "        # After visiting its neighbors, nodes are marked as visited\n",
    "        unvisited_nodes.remove(current_min_node)\n",
    "    \n",
    "    return previous_nodes, shortest_path"
   ]
  },
  {
   "cell_type": "code",
   "execution_count": 18,
   "id": "aff5a44d",
   "metadata": {},
   "outputs": [],
   "source": [
    "#defining the graph for the algorithm\n",
    "import sys\n",
    " \n",
    "class Graph(object):\n",
    "    def __init__(self, nodes, init_graph):\n",
    "        self.nodes = nodes\n",
    "        self.graph = self.construct_graph(nodes, init_graph)\n",
    "        \n",
    "    def construct_graph(self, nodes, init_graph):\n",
    "        \n",
    "        graph = {}\n",
    "        for node in nodes:\n",
    "            graph[node] = {}\n",
    "        \n",
    "        graph.update(init_graph)\n",
    "        \n",
    "        for node, edges in graph.items():\n",
    "            for adjacent_node, value in edges.items():\n",
    "                if graph[adjacent_node].get(node, False) == False:\n",
    "                    graph[adjacent_node][node] = value\n",
    "                    \n",
    "        return graph\n",
    "    \n",
    "    def get_nodes(self):\n",
    "        \"Returns the nodes of the graph.\"\n",
    "        return self.nodes\n",
    "    \n",
    "    def get_outgoing_edges(self, node):\n",
    "        \"Returns the neighbors of a node.\"\n",
    "        connections = []\n",
    "        for out_node in self.nodes:\n",
    "            if self.graph[node].get(out_node, False) != False:\n",
    "                connections.append(out_node)\n",
    "        return connections\n",
    "    \n",
    "    def value(self, node1, node2):\n",
    "        \"Returns the value of an edge between two nodes.\"\n",
    "        return self.graph[node1][node2]"
   ]
  },
  {
   "cell_type": "code",
   "execution_count": 19,
   "id": "032faf6a",
   "metadata": {},
   "outputs": [
    {
     "name": "stdout",
     "output_type": "stream",
     "text": [
      "   Node_Places  Person\n",
      "0    Washroom4       0\n",
      "1       Office       5\n",
      "2           L7       0\n",
      "3      Middle4       0\n",
      "4           L6       0\n",
      "5           L8       0\n",
      "6           L9       0\n",
      "7      Middle5       0\n",
      "8          L11       2\n",
      "9          L10       0\n",
      "10       Extra       0\n",
      "11   Washroom3       0\n",
      "12     Stairs1       0\n",
      "13     Stairs2       0\n"
     ]
    }
   ],
   "source": [
    "#Datasets File\n",
    "import pandas as pd\n",
    "df = pd.read_csv (r\"C:\\Users\\archana\\Downloads\\AI_1stFloor - Sheet1.csv\")\n",
    "print (df)"
   ]
  },
  {
   "cell_type": "code",
   "execution_count": 20,
   "id": "4b313abf",
   "metadata": {},
   "outputs": [
    {
     "name": "stdout",
     "output_type": "stream",
     "text": [
      "1    Office\n",
      "8       L11\n",
      "Name: Node_Places, dtype: object\n"
     ]
    }
   ],
   "source": [
    "present = df.loc[df.Person != 0, 'Node_Places']\n",
    "print(present)\n",
    "#no. of nodes having Persons\n",
    "n = len(present)"
   ]
  },
  {
   "cell_type": "code",
   "execution_count": 21,
   "id": "c7d762e3",
   "metadata": {},
   "outputs": [],
   "source": [
    "#initialising the nodes\n",
    "nodes = [\"Stairs1\", \"Stairs2\", \"L6\", \"L7\", \"L8\", \"L9\", \"L10\", \"L11\",\"Middle4\", \"Middle5\", \"GroundF\", \"Washroom3\", \"Washroom4\", \"Office\", \"Extra\"]\n",
    "\n",
    "init_graph = {}\n",
    "for node in nodes:\n",
    "    init_graph[node] = {}\n",
    "    \n",
    "init_graph[\"GroundF\"][\"Stairs2\"] = 2\n",
    "init_graph[\"GroundF\"][\"Stairs1\"] = 2\n",
    "init_graph[\"Washroom4\"][\"Stairs2\"] = 1\n",
    "init_graph[\"Office\"][\"Stairs2\"] = 2\n",
    "init_graph[\"L7\"][\"Stairs2\"] = 2\n",
    "init_graph[\"Stairs2\"][\"Middle4\"] = 3\n",
    "init_graph[\"Office\"][\"Middle4\"] = 3\n",
    "init_graph[\"L7\"][\"Middle4\"] = 3\n",
    "init_graph[\"L6\"][\"Middle4\"] = 1\n",
    "init_graph[\"Middle4\"][\"L8\"] = 1\n",
    "init_graph[\"Middle4\"][\"L9\"] = 2\n",
    "init_graph[\"L8\"][\"Middle5\"] = 2\n",
    "init_graph[\"L9\"][\"Middle5\"] = 1\n",
    "init_graph[\"L11\"][\"Middle5\"] = 1\n",
    "init_graph[\"Middle5\"][\"Extra\"] = 3\n",
    "init_graph[\"Middle5\"][\"L10\"] = 1\n",
    "init_graph[\"Middle5\"][\"Stairs1\"] = 3\n",
    "init_graph[\"Stairs1\"][\"L10\"] = 2\n",
    "init_graph[\"Extra\"][\"Stairs1\"] = 2\n",
    "init_graph[\"Washroom3\"][\"Stairs1\"] = 1\n",
    "\n",
    "\n",
    "graph = Graph(nodes, init_graph)\n"
   ]
  },
  {
   "cell_type": "code",
   "execution_count": 22,
   "id": "827ca27f",
   "metadata": {},
   "outputs": [
    {
     "name": "stdout",
     "output_type": "stream",
     "text": [
      "Fire is at: \n",
      "L8\n"
     ]
    }
   ],
   "source": [
    "#initialising the fire randomly\n",
    "import random\n",
    "random_item_from_list = \"L8\" #random.choice(nodes)\n",
    "\n",
    "while(random_item_from_list==\"GroundF\"):\n",
    "    random_item_from_list = random.choice(nodes)\n",
    "    nodes.remove(random_item_from_list)   \n",
    "    \n",
    "print(\"Fire is at: \")\n",
    "print(random_item_from_list)\n"
   ]
  },
  {
   "cell_type": "code",
   "execution_count": 23,
   "id": "f1476100",
   "metadata": {},
   "outputs": [],
   "source": [
    "#printing the path\n",
    "def print_result(previous_nodes, shortest_path, start_node, target_node):\n",
    "    path = []\n",
    "    node = target_node\n",
    "    \n",
    "    while node != start_node:\n",
    "        path.append(node)\n",
    "        node = previous_nodes[node]\n",
    " \n",
    "    # Add the start node manually\n",
    "    path.append(start_node)\n",
    "    a =shortest_path[target_node] \n",
    "    print(\"We found the following best path with a value of {}.\".format(a))\n",
    "    print(\" -> \".join(reversed(path)))"
   ]
  },
  {
   "cell_type": "code",
   "execution_count": 24,
   "id": "3eb0b3de",
   "metadata": {},
   "outputs": [
    {
     "name": "stdout",
     "output_type": "stream",
     "text": [
      "We found the following best path with a value of 4.\n",
      "Office -> Stairs2 -> GroundF\n",
      "We found the following best path with a value of 6.\n",
      "L11 -> Middle5 -> Stairs1 -> GroundF\n",
      "Runtime of the program is 0.12609148025512695 ms.\n"
     ]
    }
   ],
   "source": [
    "#doing the parallel programming for as many as starting nodes\n",
    "import multiprocessing\n",
    "import time\n",
    "\n",
    "class Process(multiprocessing.Process):\n",
    "    for i in present:\n",
    "        if(random_item_from_list!=\"GroundF\"):\n",
    "            previous_nodes, shortest_path = dijkstra_algorithm(graph=graph, start_node=i)\n",
    "            print_result(previous_nodes, shortest_path, start_node=i, target_node='GroundF')\n",
    "        else:\n",
    "            print(\"Random fire is at Ground F.\")\n",
    "        \n",
    "end = time.time()    \n",
    "print(f\"Runtime of the program is {end - start} ms.\")"
   ]
  },
  {
   "cell_type": "code",
   "execution_count": null,
   "id": "4e0076c2",
   "metadata": {},
   "outputs": [],
   "source": []
  }
 ],
 "metadata": {
  "kernelspec": {
   "display_name": "Python 3",
   "language": "python",
   "name": "python3"
  },
  "language_info": {
   "codemirror_mode": {
    "name": "ipython",
    "version": 3
   },
   "file_extension": ".py",
   "mimetype": "text/x-python",
   "name": "python",
   "nbconvert_exporter": "python",
   "pygments_lexer": "ipython3",
   "version": "3.8.8"
  }
 },
 "nbformat": 4,
 "nbformat_minor": 5
}
